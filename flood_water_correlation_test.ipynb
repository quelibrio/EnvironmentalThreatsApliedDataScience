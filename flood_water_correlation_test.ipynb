{
 "cells": [
  {
   "cell_type": "code",
   "execution_count": 25,
   "metadata": {
    "collapsed": true
   },
   "outputs": [],
   "source": [
    "import pandas as pd\n",
    "import matplotlib.pyplot as plt\n",
    "import numpy as np\n",
    "from pandas import Series, DataFrame, Panel\n",
    "\n",
    "%matplotlib inline\n",
    "\n",
    "path = \"D://\"\n",
    "water_filename = path + \"water_quality.csv\"\n",
    "flood_filename = path + \"flood.csv\"\n",
    "\n",
    "water_data = pd.read_csv(water_filename)\n",
    "flood_data = pd.read_csv(flood_filename)"
   ]
  },
  {
   "cell_type": "markdown",
   "metadata": {},
   "source": [
    "Here, we convert time format from timestamp to date (YYYY-mm-dd)\n",
    "\n",
    "GB109053027371\n",
    "http://environment.data.gov.uk/catchment-planning/WaterBody/GB109053027371\n",
    "\n",
    "Bristol Avon (By Bk to Netham Weir)"
   ]
  },
  {
   "cell_type": "code",
   "execution_count": 26,
   "metadata": {
    "collapsed": true
   },
   "outputs": [],
   "source": [
    "def convertDatetimeandFormat(data, column):\n",
    "    data[column]=pd.to_datetime(data[column])\n",
    "    data[column] = data[column].dt.strftime('%Y-%m-%d')\n",
    "    return data"
   ]
  },
  {
   "cell_type": "code",
   "execution_count": 27,
   "metadata": {
    "collapsed": false
   },
   "outputs": [],
   "source": [
    "water_data = convertDatetimeandFormat(water_data, 'sample.sampleDateTime')\n"
   ]
  },
  {
   "cell_type": "markdown",
   "metadata": {},
   "source": [
    "Here, we try to analyze the correlation between **water flow and BOD ATU** for a single water body (GB109053027371)."
   ]
  },
  {
   "cell_type": "code",
   "execution_count": 28,
   "metadata": {
    "collapsed": false
   },
   "outputs": [],
   "source": [
    "water_df = water_data[['determinand.label', 'sample.sampleDateTime','result', \n",
    "                      'determinand.unit.label','stationReference', 'Waterbody ID','water body']]\n",
    "\n",
    "filtered_water_df = water_df.loc[(water_df['Waterbody ID'] == 'GB109053027371') & (water_df['determinand.label'] == 'BOD ATU')]\n"
   ]
  },
  {
   "cell_type": "markdown",
   "metadata": {},
   "source": [
    "group by 'sample.sampleDateTime','Waterbody ID','determinand.label'\n",
    "\n",
    "This command is able to get the mean number of pollution variables of each waterbody ID every day."
   ]
  },
  {
   "cell_type": "code",
   "execution_count": 29,
   "metadata": {
    "collapsed": false
   },
   "outputs": [
    {
     "data": {
      "text/plain": [
       "sample.sampleDateTime\n",
       "2016-07-12     9.0\n",
       "2016-07-13    12.0\n",
       "2016-07-29    18.0\n",
       "2016-08-07     9.0\n",
       "2016-08-08    12.0\n",
       "2016-08-17     9.0\n",
       "2016-09-07     9.0\n",
       "2016-09-08    14.0\n",
       "2016-09-26    15.0\n",
       "2016-09-27    15.0\n",
       "Name: result, dtype: float64"
      ]
     },
     "execution_count": 29,
     "metadata": {},
     "output_type": "execute_result"
    }
   ],
   "source": [
    "w_grouped = filtered_water_df.groupby(['sample.sampleDateTime'])['result'].mean()\n",
    "w_grouped"
   ]
  },
  {
   "cell_type": "code",
   "execution_count": 30,
   "metadata": {
    "collapsed": false
   },
   "outputs": [
    {
     "data": {
      "text/plain": [
       "<matplotlib.axes._subplots.AxesSubplot at 0x1e8c1235a90>"
      ]
     },
     "execution_count": 30,
     "metadata": {},
     "output_type": "execute_result"
    },
    {
     "data": {
      "image/png": "[encoded data removed]",
      "text/plain": [
       "<matplotlib.figure.Figure at 0x1e8c1319b38>"
      ]
     },
     "metadata": {},
     "output_type": "display_data"
    }
   ],
   "source": [
    "w_grouped.plot()"
   ]
  },
  {
   "cell_type": "code",
   "execution_count": 31,
   "metadata": {
    "collapsed": false
   },
   "outputs": [
    {
     "data": {
      "text/plain": [
       "date\n",
       "2016-07-12    5.452769\n",
       "2016-07-13    5.336615\n",
       "2016-07-29    4.604308\n",
       "2016-08-07    4.427692\n",
       "2016-08-08    3.956757\n",
       "2016-08-17    3.341231\n",
       "2016-09-07    4.070000\n",
       "2016-09-08    3.638923\n",
       "2016-09-26    3.870462\n",
       "2016-09-27    3.685231\n",
       "Name: value, dtype: float64"
      ]
     },
     "execution_count": 31,
     "metadata": {},
     "output_type": "execute_result"
    }
   ],
   "source": [
    "flood_df = flood_data[['date', 'value','Waterbody ID']]\n",
    "filtered_flood_df = flood_df.loc[flood_df['date'].isin(w_grouped.index.get_level_values('sample.sampleDateTime').tolist())]\n",
    "\n",
    "f_grouped = filtered_flood_df.groupby(['date'])['value'].mean()\n",
    "f_grouped"
   ]
  },
  {
   "cell_type": "code",
   "execution_count": 37,
   "metadata": {
    "collapsed": false
   },
   "outputs": [
    {
     "data": {
      "text/plain": [
       "<matplotlib.axes._subplots.AxesSubplot at 0x1e8c114f6d8>"
      ]
     },
     "execution_count": 37,
     "metadata": {},
     "output_type": "execute_result"
    },
    {
     "data": {
      "image/png": "[encoded data removed]",
      "text/plain": [
       "<matplotlib.figure.Figure at 0x1e8c11a95c0>"
      ]
     },
     "metadata": {},
     "output_type": "display_data"
    }
   ],
   "source": [
    "f_grouped.plot()"
   ]
  },
  {
   "cell_type": "code",
   "execution_count": 45,
   "metadata": {
    "collapsed": false
   },
   "outputs": [
    {
     "data": {
      "text/html": [
       "<div>\n",
       "<table border=\"1\" class=\"dataframe\">\n",
       "  <thead>\n",
       "    <tr style=\"text-align: right;\">\n",
       "      <th></th>\n",
       "      <th>BOD ATU</th>\n",
       "      <th>FLOW</th>\n",
       "    </tr>\n",
       "  </thead>\n",
       "  <tbody>\n",
       "    <tr>\n",
       "      <th>2016-07-12</th>\n",
       "      <td>9.0</td>\n",
       "      <td>5.452769</td>\n",
       "    </tr>\n",
       "    <tr>\n",
       "      <th>2016-07-13</th>\n",
       "      <td>12.0</td>\n",
       "      <td>5.336615</td>\n",
       "    </tr>\n",
       "    <tr>\n",
       "      <th>2016-07-29</th>\n",
       "      <td>18.0</td>\n",
       "      <td>4.604308</td>\n",
       "    </tr>\n",
       "    <tr>\n",
       "      <th>2016-08-07</th>\n",
       "      <td>9.0</td>\n",
       "      <td>4.427692</td>\n",
       "    </tr>\n",
       "    <tr>\n",
       "      <th>2016-08-08</th>\n",
       "      <td>12.0</td>\n",
       "      <td>3.956757</td>\n",
       "    </tr>\n",
       "    <tr>\n",
       "      <th>2016-08-17</th>\n",
       "      <td>9.0</td>\n",
       "      <td>3.341231</td>\n",
       "    </tr>\n",
       "    <tr>\n",
       "      <th>2016-09-07</th>\n",
       "      <td>9.0</td>\n",
       "      <td>4.070000</td>\n",
       "    </tr>\n",
       "    <tr>\n",
       "      <th>2016-09-08</th>\n",
       "      <td>14.0</td>\n",
       "      <td>3.638923</td>\n",
       "    </tr>\n",
       "    <tr>\n",
       "      <th>2016-09-26</th>\n",
       "      <td>15.0</td>\n",
       "      <td>3.870462</td>\n",
       "    </tr>\n",
       "    <tr>\n",
       "      <th>2016-09-27</th>\n",
       "      <td>15.0</td>\n",
       "      <td>3.685231</td>\n",
       "    </tr>\n",
       "  </tbody>\n",
       "</table>\n",
       "</div>"
      ],
      "text/plain": [
       "            BOD ATU      FLOW\n",
       "2016-07-12      9.0  5.452769\n",
       "2016-07-13     12.0  5.336615\n",
       "2016-07-29     18.0  4.604308\n",
       "2016-08-07      9.0  4.427692\n",
       "2016-08-08     12.0  3.956757\n",
       "2016-08-17      9.0  3.341231\n",
       "2016-09-07      9.0  4.070000\n",
       "2016-09-08     14.0  3.638923\n",
       "2016-09-26     15.0  3.870462\n",
       "2016-09-27     15.0  3.685231"
      ]
     },
     "execution_count": 45,
     "metadata": {},
     "output_type": "execute_result"
    }
   ],
   "source": [
    "joint_df = DataFrame({'BOD ATU' : w_grouped, 'FLOW' : f_grouped})\n",
    "joint_df"
   ]
  },
  {
   "cell_type": "code",
   "execution_count": 46,
   "metadata": {
    "collapsed": false
   },
   "outputs": [
    {
     "data": {
      "text/plain": [
       "<matplotlib.axes._subplots.AxesSubplot at 0x1e8c19eb438>"
      ]
     },
     "execution_count": 46,
     "metadata": {},
     "output_type": "execute_result"
    },
    {
     "data": {
      "image/png": "[encoded data removed]",
      "text/plain": [
       "<matplotlib.figure.Figure at 0x1e8c1a42518>"
      ]
     },
     "metadata": {},
     "output_type": "display_data"
    }
   ],
   "source": [
    "joint_df.plot()"
   ]
  },
  {
   "cell_type": "code",
   "execution_count": 48,
   "metadata": {
    "collapsed": false
   },
   "outputs": [
    {
     "data": {
      "text/html": [
       "<div>\n",
       "<table border=\"1\" class=\"dataframe\">\n",
       "  <thead>\n",
       "    <tr style=\"text-align: right;\">\n",
       "      <th></th>\n",
       "      <th>BOD ATU</th>\n",
       "      <th>FLOW</th>\n",
       "    </tr>\n",
       "  </thead>\n",
       "  <tbody>\n",
       "    <tr>\n",
       "      <th>BOD ATU</th>\n",
       "      <td>1.00000</td>\n",
       "      <td>-0.13456</td>\n",
       "    </tr>\n",
       "    <tr>\n",
       "      <th>FLOW</th>\n",
       "      <td>-0.13456</td>\n",
       "      <td>1.00000</td>\n",
       "    </tr>\n",
       "  </tbody>\n",
       "</table>\n",
       "</div>"
      ],
      "text/plain": [
       "         BOD ATU     FLOW\n",
       "BOD ATU  1.00000 -0.13456\n",
       "FLOW    -0.13456  1.00000"
      ]
     },
     "execution_count": 48,
     "metadata": {},
     "output_type": "execute_result"
    }
   ],
   "source": [
    "joint_df.corr(method='pearson')"
   ]
  },
  {
   "cell_type": "code",
   "execution_count": null,
   "metadata": {
    "collapsed": true
   },
   "outputs": [],
   "source": []
  }
 ],
 "metadata": {
  "kernelspec": {
   "display_name": "Python 3",
   "language": "python",
   "name": "python3"
  },
  "language_info": {
   "codemirror_mode": {
    "name": "ipython",
    "version": 3
   },
   "file_extension": ".py",
   "mimetype": "text/x-python",
   "name": "python",
   "nbconvert_exporter": "python",
   "pygments_lexer": "ipython3",
   "version": "3.6.0"
  }
 },
 "nbformat": 4,
 "nbformat_minor": 2
}
