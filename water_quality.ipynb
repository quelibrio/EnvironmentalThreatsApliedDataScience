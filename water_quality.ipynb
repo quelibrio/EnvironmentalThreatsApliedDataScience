{
 "cells": [
  {
   "cell_type": "code",
   "execution_count": 1,
   "metadata": {
    "collapsed": false
   },
   "outputs": [],
   "source": [
    "import pandas as pd\n",
    "import matplotlib.pyplot as plt\n",
    "import numpy as np\n",
    "import itertools\n",
    "import os\n",
    "import scipy.stats as sp\n",
    "\n",
    "path = os.path.abspath(\"Data\")+os.path.sep\n",
    "filename = path + \"water_quality.csv\""
   ]
  },
  {
   "cell_type": "code",
   "execution_count": 2,
   "metadata": {
    "collapsed": false
   },
   "outputs": [],
   "source": [
    "# remove outliers using the Interquartile Range (IQR)\n",
    "# compute first quartile (Q1)\n",
    "# compute third quartile (Q3)\n",
    "# compute IQR (Q3 - Q1)\n",
    "# definition of outlier(x): (x > 3*IQR + Q3) or (x < Q1 - 3*IQR) \n",
    "def clean_from_outliers(xs):\n",
    "    q3, q1 = np.percentile(xs, [75 ,25])\n",
    "    iqr = q3 - q1\n",
    "    #isoutlier = lambda x: ((x > (3*iqr + q3)) | (x < (q1 - 3*iqr))) \n",
    "    #outliers, normal_data = xs[np.where(isoutlier)], xs[np.where(not(isoutlier))]\n",
    "    outliers = xs[(xs[:] > 3*iqr + q3) | (xs[:] < q1 - 3*iqr)]\n",
    "    normal_data = xs[(xs[:] <= 3*iqr + q3) & (xs[:] >= q1 - 3*iqr)]\n",
    "    \n",
    "    return normal_data, outliers"
   ]
  },
  {
   "cell_type": "code",
   "execution_count": 3,
   "metadata": {
    "collapsed": false
   },
   "outputs": [],
   "source": [
    "def split_on_outliers(frame):\n",
    "        values = np.array(frame['result'])\n",
    "        data, outliers = clean_from_outliers(values)\n",
    "        df_data, df_outliers = frame[frame['result'].isin(data)], frame[frame['result'].isin(outliers)] \n",
    "        return df_data, df_outliers"
   ]
  },
  {
   "cell_type": "code",
   "execution_count": 4,
   "metadata": {
    "collapsed": false
   },
   "outputs": [],
   "source": [
    "# find the degree of the polynomial that better suits the data.\n",
    "# iterative approach: increase the polynomial degree until the drop of the squared error is big enough.\n",
    "# (i.e if the SE is reduced by a big amount continue, otherwise settle for the degree you have )\n",
    "# maybe it avoids overfitting ???\n",
    "# abs(SE(k) - SE(k+1)) < epsilon\n",
    "def selective_fit(xs, ys):\n",
    "    epsilon = 1 # to check convergence\n",
    "    squared_error = float('inf') \n",
    "    converged = False\n",
    "    degree = 1\n",
    "    coefficients = []\n",
    "    while converged is False:\n",
    "        coeff_i, se_i, _, _, _ = np.polyfit(xs, ys, degree, full=True)\n",
    "        if(abs(se_i - squared_error) < epsilon):\n",
    "            converged = True\n",
    "        else: \n",
    "            coefficients = coeff_i\n",
    "            squared_error = se_i\n",
    "            degree += 1\n",
    "    \n",
    "    return coefficients, squared_error, degree-1"
   ]
  },
  {
   "cell_type": "code",
   "execution_count": 5,
   "metadata": {
    "collapsed": false
   },
   "outputs": [],
   "source": [
    "# fits the scatter points with many polynomial degrees minimizing the squared error, which is reported.\n",
    "# the length of the 'colors' array determines the number of polynomial degrees to try\n",
    "def fit_scatter_and_plot(var_x, var_y, xs, ys, out_x, out_y, mix_x, mix_y, unit_x, unit_y):\n",
    "    coefficients, squared_error, degree = selective_fit(xs, ys)\n",
    "    print var_x + ' vs ' + var_y + '. coefficients: ' + str(coefficients)\n",
    "    p = np.poly1d(coefficients)\n",
    "    label = '%d$^\\circ$, SE = %.2f' %(degree, squared_error)\n",
    "    plt.plot(np.unique(xs), p(np.unique(xs)), 'black' , label=label)\n",
    "    \n",
    "    # report correlation coefficients\n",
    "    rcoeff = np.corrcoef(xs,ys) # Pearson\n",
    "    rcoeff = rcoeff[0][1]\n",
    "    rho, p_value = sp.spearmanr(xs, ys) # rank-order correlation, p_value to test for non-correlation\n",
    "    plt.plot([], [], 'white', label=r'R = %.2f, $\\rho$ = %.2f' % (rcoeff, rho)) # plot empty set just for the labels\n",
    "    \n",
    "    #plot scatters\n",
    "    plt.scatter(xs, ys, c='b', label='normal data', alpha=0.4)\n",
    "    plt.scatter(out_x, out_y, c='r', label='both outliers', alpha=0.4)\n",
    "    plt.scatter(mix_x, mix_y, c='orange', label='either outlier', alpha=0.4)\n",
    "    plt.xlabel(var_x + ' ' + unit_x)\n",
    "    plt.ylabel(var_y + ' ' + unit_y)\n",
    "    plt.title(var_x + ' and ' + var_y)\n",
    "    plt.legend(bbox_to_anchor = (1, 1), loc='best')\n",
    "    #plt.legend(loc='best', framealpha=0.5)"
   ]
  },
  {
   "cell_type": "code",
   "execution_count": 6,
   "metadata": {
    "collapsed": true
   },
   "outputs": [],
   "source": [
    "# further process of the data frame\n",
    "def split_on_variables(frame, var1, var2):\n",
    "    selected_rows = frame[(frame['determinand.label'] == var1) | (frame['determinand.label'] == var2)]\n",
    "    left_df = selected_rows[selected_rows['determinand.label'] == var1]\n",
    "    right_df = selected_rows[selected_rows['determinand.label'] == var2]\n",
    "    return left_df, right_df"
   ]
  },
  {
   "cell_type": "code",
   "execution_count": 7,
   "metadata": {
    "collapsed": false
   },
   "outputs": [
    {
     "data": {
      "text/html": [
       "<div>\n",
       "<table border=\"1\" class=\"dataframe\">\n",
       "  <thead>\n",
       "    <tr style=\"text-align: right;\">\n",
       "      <th></th>\n",
       "      <th></th>\n",
       "      <th>amin</th>\n",
       "      <th>amax</th>\n",
       "      <th>mean</th>\n",
       "      <th>std</th>\n",
       "      <th>count</th>\n",
       "    </tr>\n",
       "    <tr>\n",
       "      <th>determinand.label</th>\n",
       "      <th>determinand.unit.label</th>\n",
       "      <th></th>\n",
       "      <th></th>\n",
       "      <th></th>\n",
       "      <th></th>\n",
       "      <th></th>\n",
       "    </tr>\n",
       "  </thead>\n",
       "  <tbody>\n",
       "    <tr>\n",
       "      <th>Ammonia(N)</th>\n",
       "      <th>mg/l</th>\n",
       "      <td>0.030</td>\n",
       "      <td>9.170</td>\n",
       "      <td>0.577450</td>\n",
       "      <td>1.457473</td>\n",
       "      <td>60</td>\n",
       "    </tr>\n",
       "    <tr>\n",
       "      <th>N Oxidised</th>\n",
       "      <th>mg/l</th>\n",
       "      <td>0.620</td>\n",
       "      <td>7.290</td>\n",
       "      <td>2.721636</td>\n",
       "      <td>1.856487</td>\n",
       "      <td>55</td>\n",
       "    </tr>\n",
       "    <tr>\n",
       "      <th>Nitrite-N</th>\n",
       "      <th>mg/l</th>\n",
       "      <td>0.004</td>\n",
       "      <td>0.208</td>\n",
       "      <td>0.029571</td>\n",
       "      <td>0.038017</td>\n",
       "      <td>55</td>\n",
       "    </tr>\n",
       "    <tr>\n",
       "      <th>Nitrate-N</th>\n",
       "      <th>mg/l</th>\n",
       "      <td>0.613</td>\n",
       "      <td>7.190</td>\n",
       "      <td>2.692436</td>\n",
       "      <td>1.833456</td>\n",
       "      <td>55</td>\n",
       "    </tr>\n",
       "    <tr>\n",
       "      <th>Temp Water</th>\n",
       "      <th>cel</th>\n",
       "      <td>6.700</td>\n",
       "      <td>21.600</td>\n",
       "      <td>14.259615</td>\n",
       "      <td>2.894570</td>\n",
       "      <td>52</td>\n",
       "    </tr>\n",
       "    <tr>\n",
       "      <th>Orthophospht</th>\n",
       "      <th>mg/l</th>\n",
       "      <td>0.062</td>\n",
       "      <td>0.973</td>\n",
       "      <td>0.232942</td>\n",
       "      <td>0.164296</td>\n",
       "      <td>52</td>\n",
       "    </tr>\n",
       "    <tr>\n",
       "      <th>pH</th>\n",
       "      <th>phunits</th>\n",
       "      <td>6.850</td>\n",
       "      <td>8.360</td>\n",
       "      <td>7.956304</td>\n",
       "      <td>0.270320</td>\n",
       "      <td>46</td>\n",
       "    </tr>\n",
       "  </tbody>\n",
       "</table>\n",
       "</div>"
      ],
      "text/plain": [
       "                                           amin    amax       mean       std  \\\n",
       "determinand.label determinand.unit.label                                       \n",
       "Ammonia(N)        mg/l                    0.030   9.170   0.577450  1.457473   \n",
       "N Oxidised        mg/l                    0.620   7.290   2.721636  1.856487   \n",
       "Nitrite-N         mg/l                    0.004   0.208   0.029571  0.038017   \n",
       "Nitrate-N         mg/l                    0.613   7.190   2.692436  1.833456   \n",
       "Temp Water        cel                     6.700  21.600  14.259615  2.894570   \n",
       "Orthophospht      mg/l                    0.062   0.973   0.232942  0.164296   \n",
       "pH                phunits                 6.850   8.360   7.956304  0.270320   \n",
       "\n",
       "                                          count  \n",
       "determinand.label determinand.unit.label         \n",
       "Ammonia(N)        mg/l                       60  \n",
       "N Oxidised        mg/l                       55  \n",
       "Nitrite-N         mg/l                       55  \n",
       "Nitrate-N         mg/l                       55  \n",
       "Temp Water        cel                        52  \n",
       "Orthophospht      mg/l                       52  \n",
       "pH                phunits                    46  "
      ]
     },
     "execution_count": 7,
     "metadata": {},
     "output_type": "execute_result"
    }
   ],
   "source": [
    "import operator\n",
    "data = pd.read_csv(filename)\n",
    "df = data[['determinand.label', 'result', 'determinand.unit.label', 'water body']]\n",
    "\n",
    "grouped = df.groupby(['determinand.label', 'determinand.unit.label'])['result'].agg([pd.np.min, pd.np.max, pd.np.mean, pd.np.std, 'count'])\n",
    "\n",
    "filtered = grouped[grouped['count'] > 15]\n",
    "pd.DataFrame.sort_values(filtered, \"count\", ascending=False).head(n=7)"
   ]
  },
  {
   "cell_type": "code",
   "execution_count": 8,
   "metadata": {
    "collapsed": true
   },
   "outputs": [],
   "source": [
    "# process data frame, select columns of interest.\n",
    "df2 = data[['determinand.label', 'result', 'determinand.unit.label', 'sample.sampleDateTime', 'Waterbody ID']]\n",
    "variables = ['Ammonia(N)', 'N Oxidised', 'Nitrate-N', 'Nitrite-N', 'Orthophospht', 'pH', 'Temp Water']"
   ]
  },
  {
   "cell_type": "code",
   "execution_count": 9,
   "metadata": {
    "collapsed": false
   },
   "outputs": [
    {
     "data": {
      "image/png": "[encoded data removed]",
      "text/plain": [
       "<matplotlib.figure.Figure at 0x7f6b5c0e8310>"
      ]
     },
     "metadata": {},
     "output_type": "display_data"
    },
    {
     "data": {
      "image/png": "[encoded data removed]",
      "text/plain": [
       "<matplotlib.figure.Figure at 0x7f6b5bf9ed10>"
      ]
     },
     "metadata": {},
     "output_type": "display_data"
    },
    {
     "data": {
      "image/png": "[encoded data removed]",
      "text/plain": [
       "<matplotlib.figure.Figure at 0x7f6b5bef8f10>"
      ]
     },
     "metadata": {},
     "output_type": "display_data"
    },
    {
     "data": {
      "image/png": "[encoded data removed]",
      "text/plain": [
       "<matplotlib.figure.Figure at 0x7f6b5bdd6d10>"
      ]
     },
     "metadata": {},
     "output_type": "display_data"
    },
    {
     "data": {
      "image/png": "[encoded data removed]",
      "text/plain": [
       "<matplotlib.figure.Figure at 0x7f6b5bd26c50>"
      ]
     },
     "metadata": {},
     "output_type": "display_data"
    },
    {
     "data": {
      "image/png": "[encoded data removed]",
      "text/plain": [
       "<matplotlib.figure.Figure at 0x7f6b5bd5af50>"
      ]
     },
     "metadata": {},
     "output_type": "display_data"
    },
    {
     "data": {
      "image/png": "[encoded data removed]",
      "text/plain": [
       "<matplotlib.figure.Figure at 0x7f6b5bbb4f10>"
      ]
     },
     "metadata": {},
     "output_type": "display_data"
    },
    {
     "name": "stdout",
     "output_type": "stream",
     "text": [
      "normal data:\n",
      "3       0.202\n",
      "12      0.182\n",
      "196     0.236\n",
      "223     0.334\n",
      "247     0.380\n",
      "282     0.233\n",
      "294     0.281\n",
      "306     0.370\n",
      "317     0.336\n",
      "353     0.582\n",
      "391     0.343\n",
      "472     0.191\n",
      "521     0.218\n",
      "536     0.337\n",
      "548     0.313\n",
      "560     0.322\n",
      "569     0.338\n",
      "584     0.118\n",
      "609     0.154\n",
      "620     0.139\n",
      "854     0.168\n",
      "866     0.123\n",
      "878     0.185\n",
      "890     0.134\n",
      "902     0.235\n",
      "913     0.190\n",
      "926     0.062\n",
      "938     0.075\n",
      "953     0.114\n",
      "962     0.259\n",
      "978     0.114\n",
      "1008    0.109\n",
      "1029    0.187\n",
      "1056    0.183\n",
      "1075    0.107\n",
      "1091    0.138\n",
      "1107    0.156\n",
      "1119    0.164\n",
      "1131    0.165\n",
      "1144    0.158\n",
      "1156    0.134\n",
      "1168    0.147\n",
      "1180    0.153\n",
      "1187    0.173\n",
      "1204    0.130\n",
      "1214    0.156\n",
      "1222    0.155\n",
      "1240    0.140\n",
      "1251    0.116\n",
      "1274    0.459\n",
      "Name: result, dtype: float64\n",
      "outliers:\n",
      "331     0.973\n",
      "1287    0.742\n",
      "Name: result, dtype: float64\n"
     ]
    }
   ],
   "source": [
    "# box plots, to contain the lists of values of the 7 variables\n",
    "# 2 different box plots to capture the different scales of the variables\n",
    "\"\"\"\n",
    "vars_1 = ['N Oxidised', 'Nitrate-N', 'Temp Water'] # big spread\n",
    "vars_2 = ['Ammonia(N)', 'Nitrite-N', 'Orthophospht', 'pH'] # small spread\n",
    "box_data1, box_data2 = [], []\n",
    "for var_name in vars_1:\n",
    "    box_data1.append(df2[df2['determinand.label'] == var_name]['result'])\n",
    "    \n",
    "for var_name in vars_2:\n",
    "    box_data2.append(df2[df2['determinand.label'] == var_name]['result'])    \n",
    "# returns a dictionary with keys: boxes, medians, whiskers, caps, fliers, means\n",
    "dict_stats1 = plt.boxplot(box_data1, whis=3, labels=vars_1, vert=True) \n",
    "plt.show()\n",
    "dicts_stats2 = plt.boxplot(box_data2, whis=3, labels=vars_2, vert=True)\n",
    "plt.show()\n",
    "\"\"\"\n",
    "for var_name in variables:\n",
    "    values = np.array(df2[df2['determinand.label'] == var_name]['result'])\n",
    "    plt.boxplot(values, whis=3, vert=True)\n",
    "    plt.xlabel(var_name)\n",
    "    plt.show()\n",
    "    \n",
    "values = df2[df2['determinand.label'] == 'Orthophospht']['result']\n",
    "normal_data, outliers = clean_from_outliers(values)\n",
    "print 'normal data:'\n",
    "print normal_data\n",
    "print 'outliers:'\n",
    "print outliers\n",
    "\n",
    "# TODO\n",
    "# boxplot tutorial here --->>> http://www.physics.csbsju.edu/stats/box2.html\n",
    "# 1. using the key 'fliers' remove outliers from data points.\n",
    "# 2. fit polynomial and compute correlation after the outliers are removed.\n",
    "# 3. in the scatter plots still plot the outliers (different color) along with the normal points."
   ]
  },
  {
   "cell_type": "code",
   "execution_count": 10,
   "metadata": {
    "collapsed": false
   },
   "outputs": [
    {
     "name": "stdout",
     "output_type": "stream",
     "text": [
      "Ammonia(N) vs N Oxidised. coefficients: [ -3.04656365e+03   1.03107227e+03  -6.39222633e+01   3.02436268e+00]\n",
      "Ammonia(N) vs Nitrate-N. coefficients: [ -3.02438418e+03   1.02371332e+03  -6.36714945e+01   3.01012870e+00]\n",
      "Ammonia(N) vs Nitrite-N. coefficients: [ 0.30907312  0.00453105]\n",
      "Ammonia(N) vs Orthophospht. coefficients: [ 0.77433283  0.14563583]\n",
      "Ammonia(N) vs pH. coefficients: [-0.61852845  8.06443385]\n",
      "Ammonia(N) vs Temp Water. coefficients: [-389.1048847    98.15263423   10.8164155 ]\n"
     ]
    },
    {
     "name": "stderr",
     "output_type": "stream",
     "text": [
      "/home/carlo/anaconda2/lib/python2.7/site-packages/pandas/tools/merge.py:1376: RuntimeWarning: divide by zero encountered in long_scalars\n",
      "  stride //= shape[i]\n"
     ]
    },
    {
     "name": "stdout",
     "output_type": "stream",
     "text": [
      "N Oxidised vs Nitrate-N. coefficients: [ 0.98745726  0.00493679]\n",
      "N Oxidised vs Nitrite-N. coefficients: [ 0.01055271 -0.00393999]\n",
      "N Oxidised vs Orthophospht. coefficients: [ 0.03016782  0.12504074]\n",
      "N Oxidised vs pH. coefficients: [-0.00907136  8.04253044]\n",
      "N Oxidised vs Temp Water. coefficients: [ -0.1277237    1.77975779  -7.86239782  12.34664508   8.47709942]\n",
      "Nitrate-N vs Nitrite-N. coefficients: [ 0.01059674 -0.00380706]\n",
      "Nitrate-N vs Orthophospht. coefficients: [ 0.0301216   0.12610514]\n",
      "Nitrate-N vs pH. coefficients: [-0.00868408  8.04101222]\n",
      "Nitrate-N vs Temp Water. coefficients: [ -0.13805914   1.90590324  -8.36039288  13.07251798   8.15357859]\n",
      "Nitrite-N vs Orthophospht. coefficients: [ 2.04875314  0.14622995]\n",
      "Nitrite-N vs pH. coefficients: [-1.40854484  8.06568345]\n",
      "Nitrite-N vs Temp Water. coefficients: [ -6.19659509e+04   7.82806004e+03  -2.26938808e+02   1.54935154e+01]\n",
      "Orthophospht vs pH. coefficients: [-0.37539407  8.0972403 ]\n",
      "Orthophospht vs Temp Water. coefficients: [ -2.30123308e+04   3.56629770e+04  -2.00883053e+04   5.00921251e+03\n",
      "  -5.27182132e+02   3.17945427e+01]\n",
      "pH vs Temp Water. coefficients: [   7.42023356 -119.01533981  491.58125274]\n"
     ]
    },
    {
     "name": "stderr",
     "output_type": "stream",
     "text": [
      "/home/carlo/anaconda2/lib/python2.7/site-packages/matplotlib/pyplot.py:524: RuntimeWarning: More than 20 figures have been opened. Figures created through the pyplot interface (`matplotlib.pyplot.figure`) are retained until explicitly closed and may consume too much memory. (To control this warning, see the rcParam `figure.max_open_warning`).\n",
      "  max_open_warning, RuntimeWarning)\n"
     ]
    }
   ],
   "source": [
    "keys = ['Waterbody ID', 'sample.sampleDateTime']\n",
    "colors = ['r', 'g', 'b']\n",
    "figure = 0\n",
    "\n",
    "for i, y in zip(range(len(variables)), variables):\n",
    "    for j, x in zip(range(len(variables)), variables):\n",
    "        if(j > i):\n",
    "            left_df, right_df = split_on_variables(frame=df2, var1=y, var2=x)\n",
    "            data_1, outliers_1 = split_on_outliers(left_df)\n",
    "            data_2, outliers_2 = split_on_outliers(right_df)\n",
    "            merged_data = pd.merge(data_1, data_2, on=keys) # both normal (0 0)\n",
    "            merged_outliers = pd.merge(outliers_1, outliers_2, on=keys) # both outliers (1 1)\n",
    "            df_01 = pd.DataFrame(pd.merge(data_1, outliers_2, on=keys))\n",
    "            df_10 = pd.DataFrame(pd.merge(outliers_1, data_2, on=keys))\n",
    "            merged_mixed = pd.concat([df_01, df_10])# either normal or outliers (1 0, 0 1)\n",
    "            \n",
    "            # get the ingredients to produce the plot\n",
    "            xs, ys = merged_data['result_x'], merged_data['result_y']\n",
    "            out_x, out_y = merged_outliers['result_x'], merged_outliers['result_y']\n",
    "            mix_x, mix_y = merged_mixed['result_x'], merged_mixed['result_y']\n",
    "            var_x, var_y = merged_data['determinand.label_x'][0], merged_data['determinand.label_y'][0]\n",
    "            unit_measure_x, unit_measure_y = merged_data['determinand.unit.label_x'][0], merged_data['determinand.unit.label_y'][0]\n",
    "            \n",
    "            plt.figure(figure)\n",
    "            figure+=1\n",
    "            fit_scatter_and_plot(var_x, var_y, xs, ys, out_x, out_y, mix_x, mix_y, unit_measure_x, unit_measure_y)"
   ]
  },
  {
   "cell_type": "code",
   "execution_count": null,
   "metadata": {
    "collapsed": false
   },
   "outputs": [],
   "source": [
    "# create a left and right data frame (to separate the variables) and then do an inner join \n",
    "# on the water body and date.\n",
    "# (i.e. pick the measurements that were taken at the same time and place)"
   ]
  },
  {
   "cell_type": "code",
   "execution_count": null,
   "metadata": {
    "collapsed": false
   },
   "outputs": [
    {
     "data": {
      "image/png": "[encoded data removed]",
      "text/plain": [
       "<matplotlib.figure.Figure at 0x7f6b5babe910>"
      ]
     },
     "metadata": {},
     "output_type": "display_data"
    },
    {
     "data": {
      "image/png": "[encoded data removed]",
      "text/plain": [
       "<matplotlib.figure.Figure at 0x7f6b5b9b5e10>"
      ]
     },
     "metadata": {},
     "output_type": "display_data"
    },
    {
     "data": {
      "image/png": "[encoded data removed]",
      "text/plain": [
       "<matplotlib.figure.Figure at 0x7f6b5baddc50>"
      ]
     },
     "metadata": {},
     "output_type": "display_data"
    }
   ],
   "source": [
    "plt.show()\n",
    "plt.gcf().clear() "
   ]
  },
  {
   "cell_type": "code",
   "execution_count": null,
   "metadata": {
    "collapsed": true
   },
   "outputs": [],
   "source": []
  },
  {
   "cell_type": "code",
   "execution_count": null,
   "metadata": {
    "collapsed": true
   },
   "outputs": [],
   "source": []
  },
  {
   "cell_type": "code",
   "execution_count": null,
   "metadata": {
    "collapsed": false
   },
   "outputs": [],
   "source": []
  },
  {
   "cell_type": "code",
   "execution_count": null,
   "metadata": {
    "collapsed": true
   },
   "outputs": [],
   "source": []
  },
  {
   "cell_type": "code",
   "execution_count": null,
   "metadata": {
    "collapsed": false
   },
   "outputs": [],
   "source": []
  },
  {
   "cell_type": "code",
   "execution_count": null,
   "metadata": {
    "collapsed": true
   },
   "outputs": [],
   "source": []
  },
  {
   "cell_type": "code",
   "execution_count": null,
   "metadata": {
    "collapsed": true
   },
   "outputs": [],
   "source": []
  },
  {
   "cell_type": "code",
   "execution_count": null,
   "metadata": {
    "collapsed": true
   },
   "outputs": [],
   "source": []
  },
  {
   "cell_type": "code",
   "execution_count": null,
   "metadata": {
    "collapsed": true
   },
   "outputs": [],
   "source": []
  }
 ],
 "metadata": {
  "anaconda-cloud": {},
  "kernelspec": {
   "display_name": "Python 2",
   "language": "python",
   "name": "python2"
  },
  "language_info": {
   "codemirror_mode": {
    "name": "ipython",
    "version": 2
   },
   "file_extension": ".py",
   "mimetype": "text/x-python",
   "name": "python",
   "nbconvert_exporter": "python",
   "pygments_lexer": "ipython2",
   "version": "2.7.13"
  }
 },
 "nbformat": 4,
 "nbformat_minor": 0
}
