{
 "cells": [
  {
   "cell_type": "code",
   "execution_count": 1,
   "metadata": {
    "collapsed": true
   },
   "outputs": [],
   "source": [
    "import pandas as pd\n",
    "import matplotlib.pyplot as plt\n",
    "import numpy as np\n",
    "\n",
    "path = \"/home/carlo/bristoluni/Applied Data Science/git-master/Data/\"\n",
    "filename = path + \"water_quality.csv\""
   ]
  },
  {
   "cell_type": "code",
   "execution_count": 2,
   "metadata": {
    "collapsed": true
   },
   "outputs": [],
   "source": [
    "# fits the scatter points with many polynomial degrees minimizing the squared error, which is reported.\n",
    "# the length of the 'colors' array determines the number of polynomial degrees to try\n",
    "def fit_scatter_and_plot(var_x, var_y, xs, ys, unit_x, unit_y, colors):\n",
    "    for c, degree in zip(colors, range(1, len(colors) + 1, 1)):\n",
    "        coefficients, least_squared_error, _, _, _ = np.polyfit(xs, ys, degree, full=True)\n",
    "        plt.plot(np.unique(xs), np.poly1d(coefficients)(np.unique(xs)), c, label='deg %d, SE = %.2f' % (degree, least_squared_error))\n",
    "    plt.scatter(xs, ys)\n",
    "    plt.xlabel(var_x + ' ' + unit_x)\n",
    "    plt.ylabel(var_y + ' ' + unit_y)\n",
    "    plt.title(var_x + ' and ' + var_y)\n",
    "    plt.legend(loc='upper right')"
   ]
  },
  {
   "cell_type": "code",
   "execution_count": 3,
   "metadata": {
    "collapsed": true
   },
   "outputs": [],
   "source": [
    "# further process of the data frame\n",
    "def split_on_variables_then_merge_data_frames_on_keys(frame, keys, var1, var2):\n",
    "    selected_rows = frame[(frame['determinand.label'] == var1) | (frame['determinand.label'] == var2)]\n",
    "    left_frame = selected_rows[selected_rows['determinand.label'] == var1]\n",
    "    right_frame = selected_rows[selected_rows['determinand.label'] == var2]\n",
    "    merged = pd.merge(left_frame, right_frame, on=keys)\n",
    "    return merged"
   ]
  },
  {
   "cell_type": "code",
   "execution_count": 4,
   "metadata": {
    "collapsed": true
   },
   "outputs": [],
   "source": [
    "data = pd.read_csv(filename)\n",
    "df = data[['determinand.label', 'result', 'determinand.unit.label', 'water body']]\n",
    "\n",
    "grouped = df.groupby(['determinand.label', 'determinand.unit.label'])['result'].agg([pd.np.min, pd.np.max, pd.np.mean, pd.np.std, 'count'])\n",
    "filtered = grouped[grouped['count'] > 15]\n",
    "#del filtered['count']"
   ]
  },
  {
   "cell_type": "code",
   "execution_count": 5,
   "metadata": {
    "collapsed": false
   },
   "outputs": [
    {
     "data": {
      "text/html": [
       "<div>\n",
       "<table border=\"1\" class=\"dataframe\">\n",
       "  <thead>\n",
       "    <tr style=\"text-align: right;\">\n",
       "      <th></th>\n",
       "      <th></th>\n",
       "      <th>amin</th>\n",
       "      <th>amax</th>\n",
       "      <th>mean</th>\n",
       "      <th>std</th>\n",
       "      <th>count</th>\n",
       "    </tr>\n",
       "    <tr>\n",
       "      <th>determinand.label</th>\n",
       "      <th>determinand.unit.label</th>\n",
       "      <th></th>\n",
       "      <th></th>\n",
       "      <th></th>\n",
       "      <th></th>\n",
       "      <th></th>\n",
       "    </tr>\n",
       "  </thead>\n",
       "  <tbody>\n",
       "    <tr>\n",
       "      <th>Alky pH 4.5</th>\n",
       "      <th>mg/l</th>\n",
       "      <td>171.00000</td>\n",
       "      <td>326.0000</td>\n",
       "      <td>234.973684</td>\n",
       "      <td>32.325613</td>\n",
       "      <td>38</td>\n",
       "    </tr>\n",
       "    <tr>\n",
       "      <th>Ammonia(N)</th>\n",
       "      <th>mg/l</th>\n",
       "      <td>0.03000</td>\n",
       "      <td>9.1700</td>\n",
       "      <td>0.577450</td>\n",
       "      <td>1.457473</td>\n",
       "      <td>60</td>\n",
       "    </tr>\n",
       "    <tr>\n",
       "      <th>B-[a]-pyrene</th>\n",
       "      <th>ug/l</th>\n",
       "      <td>0.00017</td>\n",
       "      <td>0.0229</td>\n",
       "      <td>0.002287</td>\n",
       "      <td>0.005085</td>\n",
       "      <td>20</td>\n",
       "    </tr>\n",
       "    <tr>\n",
       "      <th>B-[b]-fluora</th>\n",
       "      <th>ug/l</th>\n",
       "      <td>0.00037</td>\n",
       "      <td>0.0241</td>\n",
       "      <td>0.002732</td>\n",
       "      <td>0.005269</td>\n",
       "      <td>20</td>\n",
       "    </tr>\n",
       "    <tr>\n",
       "      <th>B-[ghi]-pery</th>\n",
       "      <th>ug/l</th>\n",
       "      <td>0.00036</td>\n",
       "      <td>0.0313</td>\n",
       "      <td>0.003066</td>\n",
       "      <td>0.006888</td>\n",
       "      <td>20</td>\n",
       "    </tr>\n",
       "    <tr>\n",
       "      <th>B-[k]-fluora</th>\n",
       "      <th>ug/l</th>\n",
       "      <td>0.00011</td>\n",
       "      <td>0.0111</td>\n",
       "      <td>0.001155</td>\n",
       "      <td>0.002443</td>\n",
       "      <td>20</td>\n",
       "    </tr>\n",
       "    <tr>\n",
       "      <th>BOD ATU</th>\n",
       "      <th>mg/l</th>\n",
       "      <td>8.00000</td>\n",
       "      <td>464.0000</td>\n",
       "      <td>92.280000</td>\n",
       "      <td>164.836414</td>\n",
       "      <td>25</td>\n",
       "    </tr>\n",
       "    <tr>\n",
       "      <th>COD as O2</th>\n",
       "      <th>mg/l</th>\n",
       "      <td>52.00000</td>\n",
       "      <td>1255.0000</td>\n",
       "      <td>394.625000</td>\n",
       "      <td>496.830068</td>\n",
       "      <td>16</td>\n",
       "    </tr>\n",
       "    <tr>\n",
       "      <th>Cond @ 25C</th>\n",
       "      <th>us/cm</th>\n",
       "      <td>538.00000</td>\n",
       "      <td>2557.0000</td>\n",
       "      <td>903.552632</td>\n",
       "      <td>403.940302</td>\n",
       "      <td>38</td>\n",
       "    </tr>\n",
       "    <tr>\n",
       "      <th>Fluoranthene</th>\n",
       "      <th>ug/l</th>\n",
       "      <td>0.00089</td>\n",
       "      <td>0.0301</td>\n",
       "      <td>0.006022</td>\n",
       "      <td>0.006171</td>\n",
       "      <td>20</td>\n",
       "    </tr>\n",
       "    <tr>\n",
       "      <th>Ind123pyrene</th>\n",
       "      <th>ug/l</th>\n",
       "      <td>0.00018</td>\n",
       "      <td>0.0367</td>\n",
       "      <td>0.003271</td>\n",
       "      <td>0.008099</td>\n",
       "      <td>20</td>\n",
       "    </tr>\n",
       "    <tr>\n",
       "      <th>N Oxidised</th>\n",
       "      <th>mg/l</th>\n",
       "      <td>0.62000</td>\n",
       "      <td>7.2900</td>\n",
       "      <td>2.721636</td>\n",
       "      <td>1.856487</td>\n",
       "      <td>55</td>\n",
       "    </tr>\n",
       "    <tr>\n",
       "      <th>NH3 un-ion</th>\n",
       "      <th>mg/l</th>\n",
       "      <td>0.00048</td>\n",
       "      <td>0.0371</td>\n",
       "      <td>0.003339</td>\n",
       "      <td>0.006427</td>\n",
       "      <td>38</td>\n",
       "    </tr>\n",
       "    <tr>\n",
       "      <th>Nitrate-N</th>\n",
       "      <th>mg/l</th>\n",
       "      <td>0.61300</td>\n",
       "      <td>7.1900</td>\n",
       "      <td>2.692436</td>\n",
       "      <td>1.833456</td>\n",
       "      <td>55</td>\n",
       "    </tr>\n",
       "    <tr>\n",
       "      <th>Nitrite-N</th>\n",
       "      <th>mg/l</th>\n",
       "      <td>0.00400</td>\n",
       "      <td>0.2080</td>\n",
       "      <td>0.029571</td>\n",
       "      <td>0.038017</td>\n",
       "      <td>55</td>\n",
       "    </tr>\n",
       "    <tr>\n",
       "      <th>O Diss %sat</th>\n",
       "      <th>%</th>\n",
       "      <td>53.50000</td>\n",
       "      <td>118.2000</td>\n",
       "      <td>85.047368</td>\n",
       "      <td>13.270099</td>\n",
       "      <td>38</td>\n",
       "    </tr>\n",
       "    <tr>\n",
       "      <th>Orthophospht</th>\n",
       "      <th>mg/l</th>\n",
       "      <td>0.06200</td>\n",
       "      <td>0.9730</td>\n",
       "      <td>0.232942</td>\n",
       "      <td>0.164296</td>\n",
       "      <td>52</td>\n",
       "    </tr>\n",
       "    <tr>\n",
       "      <th>Oxygen Diss</th>\n",
       "      <th>mg/l</th>\n",
       "      <td>5.36000</td>\n",
       "      <td>11.4000</td>\n",
       "      <td>8.674211</td>\n",
       "      <td>1.512779</td>\n",
       "      <td>38</td>\n",
       "    </tr>\n",
       "    <tr>\n",
       "      <th>Phosphorus-P</th>\n",
       "      <th>mg/l</th>\n",
       "      <td>0.14200</td>\n",
       "      <td>0.6400</td>\n",
       "      <td>0.262450</td>\n",
       "      <td>0.148437</td>\n",
       "      <td>20</td>\n",
       "    </tr>\n",
       "    <tr>\n",
       "      <th>Sld Sus@105C</th>\n",
       "      <th>mg/l</th>\n",
       "      <td>3.00000</td>\n",
       "      <td>16.0000</td>\n",
       "      <td>7.589565</td>\n",
       "      <td>3.604737</td>\n",
       "      <td>23</td>\n",
       "    </tr>\n",
       "    <tr>\n",
       "      <th>Temp Water</th>\n",
       "      <th>cel</th>\n",
       "      <td>6.70000</td>\n",
       "      <td>21.6000</td>\n",
       "      <td>14.259615</td>\n",
       "      <td>2.894570</td>\n",
       "      <td>52</td>\n",
       "    </tr>\n",
       "    <tr>\n",
       "      <th>TriBT Cation</th>\n",
       "      <th>ug/l</th>\n",
       "      <td>0.00020</td>\n",
       "      <td>0.0002</td>\n",
       "      <td>0.000200</td>\n",
       "      <td>0.000000</td>\n",
       "      <td>20</td>\n",
       "    </tr>\n",
       "    <tr>\n",
       "      <th>pH</th>\n",
       "      <th>phunits</th>\n",
       "      <td>6.85000</td>\n",
       "      <td>8.3600</td>\n",
       "      <td>7.956304</td>\n",
       "      <td>0.270320</td>\n",
       "      <td>46</td>\n",
       "    </tr>\n",
       "  </tbody>\n",
       "</table>\n",
       "</div>"
      ],
      "text/plain": [
       "                                               amin       amax        mean  \\\n",
       "determinand.label determinand.unit.label                                     \n",
       "Alky pH 4.5       mg/l                    171.00000   326.0000  234.973684   \n",
       "Ammonia(N)        mg/l                      0.03000     9.1700    0.577450   \n",
       "B-[a]-pyrene      ug/l                      0.00017     0.0229    0.002287   \n",
       "B-[b]-fluora      ug/l                      0.00037     0.0241    0.002732   \n",
       "B-[ghi]-pery      ug/l                      0.00036     0.0313    0.003066   \n",
       "B-[k]-fluora      ug/l                      0.00011     0.0111    0.001155   \n",
       "BOD ATU           mg/l                      8.00000   464.0000   92.280000   \n",
       "COD as O2         mg/l                     52.00000  1255.0000  394.625000   \n",
       "Cond @ 25C        us/cm                   538.00000  2557.0000  903.552632   \n",
       "Fluoranthene      ug/l                      0.00089     0.0301    0.006022   \n",
       "Ind123pyrene      ug/l                      0.00018     0.0367    0.003271   \n",
       "N Oxidised        mg/l                      0.62000     7.2900    2.721636   \n",
       "NH3 un-ion        mg/l                      0.00048     0.0371    0.003339   \n",
       "Nitrate-N         mg/l                      0.61300     7.1900    2.692436   \n",
       "Nitrite-N         mg/l                      0.00400     0.2080    0.029571   \n",
       "O Diss %sat       %                        53.50000   118.2000   85.047368   \n",
       "Orthophospht      mg/l                      0.06200     0.9730    0.232942   \n",
       "Oxygen Diss       mg/l                      5.36000    11.4000    8.674211   \n",
       "Phosphorus-P      mg/l                      0.14200     0.6400    0.262450   \n",
       "Sld Sus@105C      mg/l                      3.00000    16.0000    7.589565   \n",
       "Temp Water        cel                       6.70000    21.6000   14.259615   \n",
       "TriBT Cation      ug/l                      0.00020     0.0002    0.000200   \n",
       "pH                phunits                   6.85000     8.3600    7.956304   \n",
       "\n",
       "                                                 std  count  \n",
       "determinand.label determinand.unit.label                     \n",
       "Alky pH 4.5       mg/l                     32.325613     38  \n",
       "Ammonia(N)        mg/l                      1.457473     60  \n",
       "B-[a]-pyrene      ug/l                      0.005085     20  \n",
       "B-[b]-fluora      ug/l                      0.005269     20  \n",
       "B-[ghi]-pery      ug/l                      0.006888     20  \n",
       "B-[k]-fluora      ug/l                      0.002443     20  \n",
       "BOD ATU           mg/l                    164.836414     25  \n",
       "COD as O2         mg/l                    496.830068     16  \n",
       "Cond @ 25C        us/cm                   403.940302     38  \n",
       "Fluoranthene      ug/l                      0.006171     20  \n",
       "Ind123pyrene      ug/l                      0.008099     20  \n",
       "N Oxidised        mg/l                      1.856487     55  \n",
       "NH3 un-ion        mg/l                      0.006427     38  \n",
       "Nitrate-N         mg/l                      1.833456     55  \n",
       "Nitrite-N         mg/l                      0.038017     55  \n",
       "O Diss %sat       %                        13.270099     38  \n",
       "Orthophospht      mg/l                      0.164296     52  \n",
       "Oxygen Diss       mg/l                      1.512779     38  \n",
       "Phosphorus-P      mg/l                      0.148437     20  \n",
       "Sld Sus@105C      mg/l                      3.604737     23  \n",
       "Temp Water        cel                       2.894570     52  \n",
       "TriBT Cation      ug/l                      0.000000     20  \n",
       "pH                phunits                   0.270320     46  "
      ]
     },
     "execution_count": 5,
     "metadata": {},
     "output_type": "execute_result"
    }
   ],
   "source": [
    "filtered"
   ]
  },
  {
   "cell_type": "code",
   "execution_count": 6,
   "metadata": {
    "collapsed": true
   },
   "outputs": [],
   "source": [
    "# process data frame, select columns of interest.\n",
    "df2 = data[['determinand.label', 'result', 'determinand.unit.label', 'sample.sampleDateTime', 'Waterbody ID']]"
   ]
  },
  {
   "cell_type": "code",
   "execution_count": 7,
   "metadata": {
    "collapsed": false
   },
   "outputs": [
    {
     "ename": "SyntaxError",
     "evalue": "EOL while scanning string literal (<ipython-input-7-5c1d475c2c6d>, line 7)",
     "output_type": "error",
     "traceback": [
      "\u001b[0;36m  File \u001b[0;32m\"<ipython-input-7-5c1d475c2c6d>\"\u001b[0;36m, line \u001b[0;32m7\u001b[0m\n\u001b[0;31m    variable5 = 'Orthophospht\u001b[0m\n\u001b[0m                            ^\u001b[0m\n\u001b[0;31mSyntaxError\u001b[0m\u001b[0;31m:\u001b[0m EOL while scanning string literal\n"
     ]
    }
   ],
   "source": [
    "# find correlation between variables\n",
    "# 1-2, 2-3, 3-4\n",
    "variable1 = 'Ammonia(N)'\n",
    "variable2 = 'N Oxidised'\n",
    "variable3 = 'Nitrate-N'\n",
    "variable4 = 'Nitrite-N'\n",
    "variable5 = 'Orthophospht"
   ]
  },
  {
   "cell_type": "code",
   "execution_count": null,
   "metadata": {
    "collapsed": false
   },
   "outputs": [],
   "source": [
    "# create a left and right data frame (to separate the variables) and then do an inner join \n",
    "# on the water body and date.\n",
    "# (i.e. pick the measurements that were taken at the same time and place)\n",
    "keys = ['Waterbody ID', 'sample.sampleDateTime']\n",
    "merged_df = split_on_variables_then_merge_data_frames_on_keys(frame=df2, keys=keys, var1=variable1, var2=variable2)\n",
    "\n",
    "# get the ingredients to produce the plot\n",
    "xs, ys = merged_df['result_x'], merged_df['result_y']\n",
    "var_x, var_y = merged_df['determinand.label_x'][0], merged_df['determinand.label_y'][0]\n",
    "unit_measure_x, unit_measure_y = merged_df['determinand.unit.label_x'][0], merged_df['determinand.unit.label_y'][0]"
   ]
  },
  {
   "cell_type": "code",
   "execution_count": null,
   "metadata": {
    "collapsed": true
   },
   "outputs": [],
   "source": [
    "# TO DO\n",
    "# 1. fit curve/ polynomial and display it in the graph (we may try different degrees)\n",
    "# 2. report squared error\n",
    "# 3. if the relation is linear, computer Pearson index coefficient. Otherwise, I don't know\n",
    "# 4. talk about the relation"
   ]
  },
  {
   "cell_type": "code",
   "execution_count": null,
   "metadata": {
    "collapsed": false
   },
   "outputs": [],
   "source": [
    "# 1. fit scatter points minimizing the squared error (SE).\n",
    "colors = ['r', 'g', 'b']\n",
    "plt.figure(0)\n",
    "fit_scatter_and_plot(var_x=var_x, var_y=var_y, xs=xs, ys=ys, unit_x=unit_measure_x, unit_y=unit_measure_y, colors=colors)"
   ]
  },
  {
   "cell_type": "code",
   "execution_count": null,
   "metadata": {
    "collapsed": true
   },
   "outputs": [],
   "source": [
    "# correlation between variable 2 and 3\n",
    "merged_df = split_on_variables_then_merge_data_frames_on_keys(frame=df2, keys=keys, var1=variable2, var2=variable3)\n",
    "\n",
    "# get the ingredients to produce the plot\n",
    "xs, ys = merged_df['result_x'], merged_df['result_y']\n",
    "var_x, var_y = merged_df['determinand.label_x'][0], merged_df['determinand.label_y'][0]\n",
    "unit_measure_x, unit_measure_y = merged_df['determinand.unit.label_x'][0], merged_df['determinand.unit.label_y'][0]\n",
    "plt.figure(1)\n",
    "fit_scatter_and_plot(var_x=var_x, var_y=var_y, xs=xs, ys=ys, unit_x=unit_measure_x, unit_y=unit_measure_y, colors=colors)"
   ]
  },
  {
   "cell_type": "code",
   "execution_count": null,
   "metadata": {
    "collapsed": true
   },
   "outputs": [],
   "source": [
    "# correlation between variable 3 and 4\n",
    "merged_df = split_on_variables_then_merge_data_frames_on_keys(frame=df2, keys=keys, var1=variable3, var2=variable4)\n",
    "\n",
    "# get the ingredients to produce the plot\n",
    "xs, ys = merged_df['result_x'], merged_df['result_y']\n",
    "var_x, var_y = merged_df['determinand.label_x'][0], merged_df['determinand.label_y'][0]\n",
    "unit_measure_x, unit_measure_y = merged_df['determinand.unit.label_x'][0], merged_df['determinand.unit.label_y'][0]\n",
    "plt.figure(2)\n",
    "fit_scatter_and_plot(var_x=var_x, var_y=var_y, xs=xs, ys=ys, unit_x=unit_measure_x, unit_y=unit_measure_y, colors=colors)"
   ]
  },
  {
   "cell_type": "code",
   "execution_count": null,
   "metadata": {
    "collapsed": true
   },
   "outputs": [],
   "source": [
    "# correlation between variable 4 and 5\n",
    "merged_df = split_on_variables_then_merge_data_frames_on_keys(frame=df2, keys=keys, var1=variable4, var2=variable5)\n",
    "\n",
    "# get the ingredients to produce the plot\n",
    "xs, ys = merged_df['result_x'], merged_df['result_y']\n",
    "var_x, var_y = merged_df['determinand.label_x'][0], merged_df['determinand.label_y'][0]\n",
    "unit_measure_x, unit_measure_y = merged_df['determinand.unit.label_x'][0], merged_df['determinand.unit.label_y'][0]\n",
    "plt.figure(3)\n",
    "fit_scatter_and_plot(var_x=var_x, var_y=var_y, xs=xs, ys=ys, unit_x=unit_measure_x, unit_y=unit_measure_y, colors=colors)"
   ]
  },
  {
   "cell_type": "code",
   "execution_count": null,
   "metadata": {
    "collapsed": false
   },
   "outputs": [],
   "source": [
    "plt.show()"
   ]
  },
  {
   "cell_type": "code",
   "execution_count": null,
   "metadata": {
    "collapsed": true
   },
   "outputs": [],
   "source": []
  },
  {
   "cell_type": "code",
   "execution_count": null,
   "metadata": {
    "collapsed": true
   },
   "outputs": [],
   "source": []
  },
  {
   "cell_type": "code",
   "execution_count": null,
   "metadata": {
    "collapsed": true
   },
   "outputs": [],
   "source": []
  },
  {
   "cell_type": "code",
   "execution_count": null,
   "metadata": {
    "collapsed": true
   },
   "outputs": [],
   "source": []
  }
 ],
 "metadata": {
  "kernelspec": {
   "display_name": "Python 2",
   "language": "python",
   "name": "python2"
  },
  "language_info": {
   "codemirror_mode": {
    "name": "ipython",
    "version": 2
   },
   "file_extension": ".py",
   "mimetype": "text/x-python",
   "name": "python",
   "nbconvert_exporter": "python",
   "pygments_lexer": "ipython2",
   "version": "2.7.13"
  }
 },
 "nbformat": 4,
 "nbformat_minor": 0
}
