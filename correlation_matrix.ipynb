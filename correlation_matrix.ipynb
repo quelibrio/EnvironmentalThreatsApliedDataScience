{
 "cells": [
  {
   "cell_type": "code",
   "execution_count": 1,
   "metadata": {
    "collapsed": true
   },
   "outputs": [],
   "source": [
    "import numpy as np\n",
    "import pandas as pd\n",
    "import os"
   ]
  },
  {
   "cell_type": "code",
   "execution_count": 2,
   "metadata": {
    "collapsed": true
   },
   "outputs": [],
   "source": [
    "keys = ['Waterbody ID', 'sample.sampleDateTime']\n",
    "path = os.path.abspath(\"Data\") + os.path.sep\n",
    "filename = path + \"water_quality.csv\""
   ]
  },
  {
   "cell_type": "code",
   "execution_count": 3,
   "metadata": {
    "collapsed": true
   },
   "outputs": [],
   "source": [
    "# computes the matrix of the correlations between each variable.\n",
    "def correlation_matrix(frame, variable_names):\n",
    "    mat = np.zeros(shape=(len(variable_names), len(variable_names)))\n",
    "    for i, var_y in zip(range(len(variable_names)), variable_names):\n",
    "        for j, var_x in zip(range(len(variable_names)), variable_names):\n",
    "            merged_df = split_on_variables_then_merge_data_frames_on_keys(frame=frame, keys=keys, var1=var_y, var2=var_x)\n",
    "            # get the ingredients to produce the plot\n",
    "            xs, ys = merged_df['result_x'], merged_df['result_y']\n",
    "            corr_coeff = np.corrcoef(xs, ys)\n",
    "            mat[i][j] = corr_coeff[0][1]\n",
    "    return mat"
   ]
  },
  {
   "cell_type": "code",
   "execution_count": 4,
   "metadata": {
    "collapsed": true
   },
   "outputs": [],
   "source": [
    "# further process of the data frame\n",
    "def split_on_variables_then_merge_data_frames_on_keys(frame, keys, var1, var2):\n",
    "    selected_rows = frame[(frame['determinand.label'] == var1) | (frame['determinand.label'] == var2)]\n",
    "    left_frame = selected_rows[selected_rows['determinand.label'] == var1]\n",
    "    right_frame = selected_rows[selected_rows['determinand.label'] == var2]\n",
    "    merged = pd.merge(left_frame, right_frame, on=keys)\n",
    "    return merged"
   ]
  },
  {
   "cell_type": "code",
   "execution_count": 5,
   "metadata": {
    "collapsed": false
   },
   "outputs": [
    {
     "name": "stdout",
     "output_type": "stream",
     "text": [
      "[[ 1.          0.19879147  0.18924927  0.57714796  0.73160366 -0.46918613\n",
      "   0.00752045]\n",
      " [ 0.19879147  1.          0.9998613   0.61084661  0.35327486 -0.10879013\n",
      "   0.08428674]\n",
      " [ 0.18924927  0.9998613   1.          0.59763714  0.348909   -0.1029298\n",
      "   0.08450652]\n",
      " [ 0.57714796  0.61084661  0.59763714  1.          0.4276314  -0.3536216\n",
      "   0.02205449]\n",
      " [ 0.73160366  0.35327486  0.348909    0.4276314   1.         -0.0412783\n",
      "   0.03139208]\n",
      " [-0.46918613 -0.10879013 -0.1029298  -0.3536216  -0.0412783   1.\n",
      "  -0.00233323]\n",
      " [ 0.00752045  0.08428674  0.08450652  0.02205449  0.03139208 -0.00233323\n",
      "   1.        ]]\n"
     ]
    }
   ],
   "source": [
    "data = pd.read_csv(filename)\n",
    "df = data[['determinand.label', 'result', 'determinand.unit.label', 'sample.sampleDateTime', 'Waterbody ID']]\n",
    "variables = ['Ammonia(N)', 'N Oxidised', 'Nitrate-N', 'Nitrite-N', 'Orthophospht', 'pH', 'Temp Water']\n",
    "\n",
    "corr_mat = correlation_matrix(df, variables)\n",
    "print corr_mat"
   ]
  },
  {
   "cell_type": "code",
   "execution_count": 6,
   "metadata": {
    "collapsed": false
   },
   "outputs": [
    {
     "name": "stdout",
     "output_type": "stream",
     "text": [
      "   Ammonia(N)  N Oxidised  Nitrate-N  Nitrite-N  Orthophospht        pH  \\\n",
      "0    1.000000    0.198791   0.189249   0.577148      0.731604 -0.469186   \n",
      "1    0.198791    1.000000   0.999861   0.610847      0.353275 -0.108790   \n",
      "2    0.189249    0.999861   1.000000   0.597637      0.348909 -0.102930   \n",
      "3    0.577148    0.610847   0.597637   1.000000      0.427631 -0.353622   \n",
      "4    0.731604    0.353275   0.348909   0.427631      1.000000 -0.041278   \n",
      "5   -0.469186   -0.108790  -0.102930  -0.353622     -0.041278  1.000000   \n",
      "6    0.007520    0.084287   0.084507   0.022054      0.031392 -0.002333   \n",
      "\n",
      "   Temp Water  \n",
      "0    0.007520  \n",
      "1    0.084287  \n",
      "2    0.084507  \n",
      "3    0.022054  \n",
      "4    0.031392  \n",
      "5   -0.002333  \n",
      "6    1.000000  \n"
     ]
    }
   ],
   "source": [
    "# create dataframe to visualize\n",
    "correlation_frame = pd.DataFrame(data=corr_mat, columns=variables)\n",
    "print correlation_frame"
   ]
  },
  {
   "cell_type": "code",
   "execution_count": null,
   "metadata": {
    "collapsed": true
   },
   "outputs": [],
   "source": []
  },
  {
   "cell_type": "code",
   "execution_count": null,
   "metadata": {
    "collapsed": true
   },
   "outputs": [],
   "source": []
  }
 ],
 "metadata": {
  "kernelspec": {
   "display_name": "Python 2",
   "language": "python",
   "name": "python2"
  },
  "language_info": {
   "codemirror_mode": {
    "name": "ipython",
    "version": 2
   },
   "file_extension": ".py",
   "mimetype": "text/x-python",
   "name": "python",
   "nbconvert_exporter": "python",
   "pygments_lexer": "ipython2",
   "version": "2.7.13"
  }
 },
 "nbformat": 4,
 "nbformat_minor": 0
}
