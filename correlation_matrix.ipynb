{
 "cells": [
  {
   "cell_type": "code",
   "execution_count": 1,
   "metadata": {
    "collapsed": true
   },
   "outputs": [],
   "source": [
    "import numpy as np\n",
    "import pandas as pd\n",
    "import os\n",
    "import scipy.stats as sp"
   ]
  },
  {
   "cell_type": "code",
   "execution_count": 2,
   "metadata": {
    "collapsed": true
   },
   "outputs": [],
   "source": [
    "keys = ['Waterbody ID', 'sample.sampleDateTime']\n",
    "path = os.path.abspath(\"Data\") + os.path.sep\n",
    "filename = path + \"water_quality.csv\""
   ]
  },
  {
   "cell_type": "code",
   "execution_count": 3,
   "metadata": {
    "collapsed": true
   },
   "outputs": [],
   "source": [
    "# computes the matrix of the correlations between each variable.\n",
    "# Pearson product-moment Correlation Coefficient\n",
    "def Pearson_correlation_matrix(frame, variable_names):\n",
    "    mat = np.zeros(shape=(len(variable_names), len(variable_names)))\n",
    "    for i, var_y in zip(range(len(variable_names)), variable_names):\n",
    "        for j, var_x in zip(range(len(variable_names)), variable_names):\n",
    "            merged_df = split_on_variables_then_merge_data_frames_on_keys(frame=frame, keys=keys, var1=var_y, var2=var_x)\n",
    "            # get the ingredients to produce the plot\n",
    "            xs, ys = merged_df['result_x'], merged_df['result_y']\n",
    "            corr_coeff = np.corrcoef(xs, ys) # Pearson product-moment correlation coefficient\n",
    "            mat[i][j] = corr_coeff[0][1]\n",
    "    return mat"
   ]
  },
  {
   "cell_type": "code",
   "execution_count": 4,
   "metadata": {
    "collapsed": true
   },
   "outputs": [],
   "source": [
    "# computes the matrix of the correlations between each variable.\n",
    "#Spearman rank-order correlation coefficient and the p-value to test for non-correlation\n",
    "def Spearman_correlation_matrix(frame, variable_names):\n",
    "    mat = np.zeros(shape=(len(variable_names), len(variable_names)))\n",
    "    for i, var_y in zip(range(len(variable_names)), variable_names):\n",
    "        for j, var_x in zip(range(len(variable_names)), variable_names):\n",
    "            merged_df = split_on_variables_then_merge_data_frames_on_keys(frame=frame, keys=keys, var1=var_y, var2=var_x)\n",
    "            # get the ingredients to produce the plot\n",
    "            xs, ys = merged_df['result_x'], merged_df['result_y']\n",
    "            # rank-order correlation, p_value to test for non-correlation\n",
    "            rho, p_value = sp.spearmanr(xs, ys)\n",
    "            mat[i][j] = rho\n",
    "    return mat"
   ]
  },
  {
   "cell_type": "code",
   "execution_count": 5,
   "metadata": {
    "collapsed": true
   },
   "outputs": [],
   "source": [
    "# further process of the data frame\n",
    "def split_on_variables_then_merge_data_frames_on_keys(frame, keys, var1, var2):\n",
    "    selected_rows = frame[(frame['determinand.label'] == var1) | (frame['determinand.label'] == var2)]\n",
    "    left_frame = selected_rows[selected_rows['determinand.label'] == var1]\n",
    "    right_frame = selected_rows[selected_rows['determinand.label'] == var2]\n",
    "    merged = pd.merge(left_frame, right_frame, on=keys)\n",
    "    return merged"
   ]
  },
  {
   "cell_type": "code",
   "execution_count": 6,
   "metadata": {
    "collapsed": false
   },
   "outputs": [],
   "source": [
    "data = pd.read_csv(filename)\n",
    "df = data[['determinand.label', 'result', 'determinand.unit.label', 'sample.sampleDateTime', 'Waterbody ID']]\n",
    "variables = ['Ammonia(N)', 'N Oxidised', 'Nitrate-N', 'Nitrite-N', 'Orthophospht', 'pH', 'Temp Water']\n",
    "\n",
    "pearson_mat = Pearson_correlation_matrix(df, variables)\n",
    "#print corr_mat"
   ]
  },
  {
   "cell_type": "code",
   "execution_count": 7,
   "metadata": {
    "collapsed": false
   },
   "outputs": [
    {
     "name": "stdout",
     "output_type": "stream",
     "text": [
      "   Ammonia(N)  N Oxidised  Nitrate-N  Nitrite-N  Orthophospht    pH  \\\n",
      "0        1.00        0.20       0.19       0.58          0.73 -0.47   \n",
      "1        0.20        1.00       1.00       0.61          0.35 -0.11   \n",
      "2        0.19        1.00       1.00       0.60          0.35 -0.10   \n",
      "3        0.58        0.61       0.60       1.00          0.43 -0.35   \n",
      "4        0.73        0.35       0.35       0.43          1.00 -0.04   \n",
      "5       -0.47       -0.11      -0.10      -0.35         -0.04  1.00   \n",
      "6        0.01        0.08       0.08       0.02          0.03 -0.00   \n",
      "\n",
      "   Temp Water  \n",
      "0        0.01  \n",
      "1        0.08  \n",
      "2        0.08  \n",
      "3        0.02  \n",
      "4        0.03  \n",
      "5       -0.00  \n",
      "6        1.00  \n"
     ]
    }
   ],
   "source": [
    "# create dataframe to visualize\n",
    "round_pearson = [[round(el, 2) for el in values] for values in pearson_mat] # round to 2 decimal places\n",
    "pearson_frame = pd.DataFrame(data=round_pearson, columns=variables)\n",
    "print \"pairwise Pearson product-moment Correlation Coefficient\"\n",
    "print pearson_frame"
   ]
  },
  {
   "cell_type": "code",
   "execution_count": 8,
   "metadata": {
    "collapsed": false
   },
   "outputs": [
    {
     "name": "stdout",
     "output_type": "stream",
     "text": [
      "   Ammonia(N)  N Oxidised  Nitrate-N  Nitrite-N  Orthophospht    pH  \\\n",
      "0        1.00        0.37       0.37       0.71          0.65 -0.50   \n",
      "1        0.37        1.00       1.00       0.62          0.53 -0.07   \n",
      "2        0.37        1.00       1.00       0.62          0.53 -0.07   \n",
      "3        0.71        0.62       0.62       1.00          0.58 -0.29   \n",
      "4        0.65        0.53       0.53       0.58          1.00 -0.22   \n",
      "5       -0.50       -0.07      -0.07      -0.29         -0.22  1.00   \n",
      "6        0.21       -0.02      -0.03       0.06          0.22  0.04   \n",
      "\n",
      "   Temp Water  \n",
      "0        0.21  \n",
      "1       -0.02  \n",
      "2       -0.03  \n",
      "3        0.06  \n",
      "4        0.22  \n",
      "5        0.04  \n",
      "6        1.00  \n"
     ]
    }
   ],
   "source": [
    "# compute pairwise Spearman correlation matrix\n",
    "spearman_mat = Spearman_correlation_matrix(df, variables)\n",
    "round_spearman = [[round(el, 2) for el in values] for values in spearman_mat] # round to 2 decimal places\n",
    "# create dataframe to visualize\n",
    "spearman_frame = pd.DataFrame(data=round_spearman, columns=variables)\n",
    "print \"pairwise Spearman Correlation Coefficient\"\n",
    "print spearman_frame"
   ]
  },
  {
   "cell_type": "code",
   "execution_count": null,
   "metadata": {
    "collapsed": true
   },
   "outputs": [],
   "source": []
  }
 ],
 "metadata": {
  "kernelspec": {
   "display_name": "Python 2",
   "language": "python",
   "name": "python2"
  },
  "language_info": {
   "codemirror_mode": {
    "name": "ipython",
    "version": 2
   },
   "file_extension": ".py",
   "mimetype": "text/x-python",
   "name": "python",
   "nbconvert_exporter": "python",
   "pygments_lexer": "ipython2",
   "version": "2.7.13"
  }
 },
 "nbformat": 4,
 "nbformat_minor": 0
}
